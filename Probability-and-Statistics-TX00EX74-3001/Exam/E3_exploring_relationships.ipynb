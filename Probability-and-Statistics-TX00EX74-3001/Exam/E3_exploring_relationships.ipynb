{
 "cells": [
  {
   "cell_type": "markdown",
   "metadata": {},
   "source": [
    "# Lab 3. Exploring relationships between variables\n",
    "Probability and Statistics 2022<br>\n",
    "[CC BY-NC-SA](https://creativecommons.org/licenses/by-nc-sa/4.0/),\n",
    "[Sakari Lukkarinen](https://peoplefinder.metropolia.fi/en/profile/8719/staff/Sakari-Lukkarinen)<br>\n",
    "[Helsinki Metropolia University of Applied Sciences](https://www.metropolia.fi/en/)\n"
   ]
  },
  {
   "cell_type": "markdown",
   "metadata": {},
   "source": [
    "We start by importing the necessary libraries and functions: \n",
    "- We use [pandas](http://pandas.pydata.org/) to [read the csv data](http://pandas.pydata.org/pandas-docs/stable/reference/api/pandas.read_csv.html?highlight=read_csv#pandas.read_csv).\n",
    "- [Seaborn](https://seaborn.pydata.org/index.html) provides a high-level interface for drawing attractive and informative statistical graphics. It is based on [matplotlib](https://matplotlib.org/).\n",
    "- [polyfit](https://docs.scipy.org/doc/numpy/reference/generated/numpy.polyfit.html) and [polyval](https://docs.scipy.org/doc/numpy/reference/generated/numpy.polyval.html#numpy.polyval) are basic polynomial fit functions from numpy.\n",
    "- [linregress](https://docs.scipy.org/doc/scipy/reference/generated/scipy.stats.linregress.html) calculates the linear regression model and statistics for it.\n",
    "- [curve_fit](https://docs.scipy.org/doc/scipy/reference/generated/scipy.optimize.curve_fit.html) can be used to fit any nonlinear function to the data."
   ]
  },
  {
   "cell_type": "code",
   "execution_count": null,
   "metadata": {},
   "outputs": [],
   "source": [
    "# Import libraries\n",
    "import numpy as np\n",
    "import matplotlib.pyplot as plt\n",
    "import pandas as pd\n",
    "import seaborn as sns\n",
    "from numpy import polyfit, polyval\n",
    "from scipy.stats import linregress\n",
    "from scipy.optimize import curve_fit"
   ]
  },
  {
   "cell_type": "markdown",
   "metadata": {},
   "source": [
    "## Reading the data"
   ]
  },
  {
   "cell_type": "markdown",
   "metadata": {},
   "source": [
    "The example data contains [body girth measurements](https://www.openintro.org/data/index.php?data=bdims) and skeletal diameter measurements, as well as age, weight, height and gender, given for 507 physically active individuals - 247 men and 260 women. These data can be used to practice data analysis. Such analyses range from simple descriptive displays to more complicated multivariate analyses such as multiple regression and discriminant analysis.\n",
    "\n",
    "Data Source: Heinz G, Peterson LJ, Johnson RW, Kerk CJ. 2003. Exploring Relationships in Body Dimensions. Journal of Statistics Education 11(2). For more information, see https://www.openintro.org/data/ and search for `bdims.csv`."
   ]
  },
  {
   "cell_type": "code",
   "execution_count": null,
   "metadata": {},
   "outputs": [],
   "source": [
    "# Read the example data into Python\n",
    "# Remember \n",
    "file = \"bdims.csv\"\n",
    "sep = \",\"\n",
    "data = pd.read_csv(file, sep = sep)\n",
    "data.tail()"
   ]
  },
  {
   "cell_type": "markdown",
   "metadata": {},
   "source": [
    "## Correlation coefficient"
   ]
  },
  {
   "cell_type": "markdown",
   "metadata": {},
   "source": [
    "Simple way to calculate the correlation between all numeric variables is to use `data.corr()`. Try that here"
   ]
  },
  {
   "cell_type": "code",
   "execution_count": null,
   "metadata": {},
   "outputs": [],
   "source": [
    "data.corr()"
   ]
  },
  {
   "cell_type": "code",
   "execution_count": null,
   "metadata": {},
   "outputs": [],
   "source": [
    "# How to select variables\n",
    "variables = ['bia.di', 'bii.di']\n",
    "\n",
    "# How to show descriptive statistics for selected variables\n",
    "data[variables].describe()"
   ]
  },
  {
   "cell_type": "markdown",
   "metadata": {},
   "source": [
    "If we want to calculate the correlation between two variables, we need to pick up them manually from the all variables, for example `data[['x', 'y']].corr()` would calculate the correlation between `x` and `y`.\n",
    "\n",
    "Now, select the variables shoulder girth (`sho.gi`) and chest girth (`che.gi`) from the data and calculate the correlation between them:"
   ]
  },
  {
   "cell_type": "code",
   "execution_count": null,
   "metadata": {},
   "outputs": [],
   "source": [
    "# Practice here"
   ]
  },
  {
   "cell_type": "markdown",
   "metadata": {},
   "source": [
    "## Scatter-plot"
   ]
  },
  {
   "cell_type": "markdown",
   "metadata": {},
   "source": [
    "Simple way to visualize the relationship between two variables is to use the scatter-plot. In pandas you can write, for example: `data.plot.scatter(x = 'x', y = 'y')`, where `x` and `y` are variables in `data`.\n",
    "\n",
    "Using the data make a scatter plot between the shoulder (`sho.gi`) and chest (`che.gi`) girth data."
   ]
  },
  {
   "cell_type": "code",
   "execution_count": null,
   "metadata": {},
   "outputs": [],
   "source": [
    "# Practice here"
   ]
  },
  {
   "cell_type": "markdown",
   "metadata": {},
   "source": [
    "## Fitting the best linear model"
   ]
  },
  {
   "cell_type": "markdown",
   "metadata": {},
   "source": [
    "In this case the scatter plot shows quite strong association between these two variables. We can calculate the best linear curve fit between the variable using `polyfit` function. The basic syntax is the following `p = polyfit(x, y, deg)`, where `x` is the x-data, `y` is the y-data, and `deg` is the [degree (order) of the polynomial](https://en.wikipedia.org/wiki/Degree_of_a_polynomial).\n",
    "\n",
    "Now try that for the shoulder and chest girth data used before:\n",
    "- Use the shoulder girth as x-data \n",
    "- chest girth as y-data\n",
    "- calculate first order polynomial fit (deg = 1)\n",
    "- print polynomial coefficients `p`"
   ]
  },
  {
   "cell_type": "code",
   "execution_count": null,
   "metadata": {},
   "outputs": [],
   "source": [
    "# Practice here"
   ]
  },
  {
   "cell_type": "markdown",
   "metadata": {},
   "source": [
    "The first parameter `p[0]` is the slope $k$ and the second parameter `p[1]` is the intercept $c$ of the linear model:\n",
    "\n",
    "$y = k \\cdot x + c$"
   ]
  },
  {
   "cell_type": "code",
   "execution_count": null,
   "metadata": {},
   "outputs": [],
   "source": [
    "p[0], p[1]"
   ]
  },
  {
   "cell_type": "markdown",
   "metadata": {},
   "source": [
    "Now we can add the best fitted linear model over the scatter plot using these parameters:"
   ]
  },
  {
   "cell_type": "code",
   "execution_count": null,
   "metadata": {},
   "outputs": [],
   "source": [
    "x1 = np.arange(80, 140)\n",
    "y1 = p[0] * x1 + p[1]\n",
    "\n",
    "# Note! you should have x assigned to shoulder girth and y to chest girth\n",
    "plt.scatter(x, y)\n",
    "plt.plot(x1, y1, 'r')\n",
    "plt.show()"
   ]
  },
  {
   "cell_type": "markdown",
   "metadata": {},
   "source": [
    "You could also directly calculate the polynomial values by using the `polyval` function. For example:\n",
    "\n",
    "`y = polyval(p, x)`\n",
    "\n",
    "calculates the same thing as:\n",
    "\n",
    "`y = p[0] * x + p[1]`\n",
    "\n",
    "Using the `polyfit` and `polyval` functions create a graph where you have\n",
    "- a scatter plot,\n",
    "- the best fitted linear model\n",
    "\n",
    "between the shoulder and chest girth data.\n"
   ]
  },
  {
   "cell_type": "code",
   "execution_count": null,
   "metadata": {},
   "outputs": [],
   "source": [
    "# practice here"
   ]
  },
  {
   "cell_type": "markdown",
   "metadata": {},
   "source": [
    "## Using linregress function"
   ]
  },
  {
   "cell_type": "markdown",
   "metadata": {},
   "source": [
    "`linregress` function from `scipy.stats` library do all these calculations at once. It calculates:\n",
    "- the [slope](https://en.wikipedia.org/wiki/Slope) and the [intercept](https://en.wikipedia.org/wiki/Y-intercept) of the best fitted linear model\n",
    "- the correlation value (`rvalue`)\n",
    "- the two-sided [p-value](https://en.wikipedia.org/wiki/P-value) (probability) value for the null hypothesis that the slope is 0, and\n",
    "- the [standard error](https://en.wikipedia.org/wiki/Standard_error) of the estimated slope\n",
    "\n",
    "The basic syntax is `r = linregress(x, y)`, where x and y are the two variables.\n",
    "\n",
    "Calculate the output of the `linregress` for the shoulder and chest girth data and print out the results."
   ]
  },
  {
   "cell_type": "code",
   "execution_count": null,
   "metadata": {},
   "outputs": [],
   "source": [
    "# Practice here"
   ]
  },
  {
   "cell_type": "markdown",
   "metadata": {},
   "source": [
    "You can pick the slope and intercept of the linear model by using the dot-notatation:"
   ]
  },
  {
   "cell_type": "code",
   "execution_count": null,
   "metadata": {},
   "outputs": [],
   "source": [
    "r.slope, r.intercept"
   ]
  },
  {
   "cell_type": "markdown",
   "metadata": {},
   "source": [
    "And you could use them to calculate and plot the best fitted linear model:"
   ]
  },
  {
   "cell_type": "code",
   "execution_count": null,
   "metadata": {},
   "outputs": [],
   "source": [
    "x2 = np.arange(80, 140)\n",
    "y2 = r.slope * x2 + r.intercept\n",
    "plt.plot(x2, y2)"
   ]
  },
  {
   "cell_type": "markdown",
   "metadata": {},
   "source": [
    "Using the shoulder and chest girth data:\n",
    "- Make a scatter-plot between the variables.\n",
    "- Calculate the linear model using the `linregress` function.\n",
    "- Calculate and plot the best fitted linear model into the same graph with the scatter-plot."
   ]
  },
  {
   "cell_type": "code",
   "execution_count": null,
   "metadata": {},
   "outputs": [],
   "source": [
    "# Practice here"
   ]
  },
  {
   "cell_type": "markdown",
   "metadata": {},
   "source": [
    "## Using seaborn visualisations"
   ]
  },
  {
   "cell_type": "markdown",
   "metadata": {},
   "source": [
    "The previous graph of combining the scatter plot and the best linear model can be done with [`regplot`](https://seaborn.pydata.org/generated/seaborn.regplot.html) function from the `seaborn` library. The standard syntax is the following: \n",
    "\n",
    "`sns.regplot(x = 'x', y = 'y', data = data)`, where\n",
    "- `'x'` is the x-axis variable\n",
    "- `'y'`is the y-axis variable, and\n",
    "- `data` is the dataset.\n",
    "\n",
    "The function have several additional parameters to finetune the graphics, for example:\n",
    "- `scatter_kws = {'color': 'blue}` changes the scatter plot markers to blue color, and\n",
    "- `line_kws = {'color': 'red'}` changes the linear model line to red color.\n",
    "\n",
    "Using the `regplot` function plot the scattered data and the linear regression model between the shoulder and chest girth variables."
   ]
  },
  {
   "cell_type": "code",
   "execution_count": null,
   "metadata": {},
   "outputs": [],
   "source": [
    "# Practice here"
   ]
  },
  {
   "cell_type": "markdown",
   "metadata": {},
   "source": [
    "## Using jointplot from seaborn"
   ]
  },
  {
   "cell_type": "markdown",
   "metadata": {},
   "source": [
    "`jointplot` is similar to the `regplot` but it also adds histograms and density plots of the variables on the axis. The basic syntax is the following:\n",
    "\n",
    "`sns.jointplot(data = data, x = 'x', y = 'y', kind = 'reg')`, where\n",
    "- data is the dataset\n",
    "- x is the first variable plot on x-axis\n",
    "- y is the second variable plot on y-axis\n",
    "- kind defines the kind of plot to draw. In this case it adds histograms and regression and density fits to the graph.\n",
    "\n",
    "Using the `jointplot` function plot the scattered data and the linear regression model between the shoulder and chest girth variables. Add also the histograms and regression and density fits to the graph."
   ]
  },
  {
   "cell_type": "code",
   "execution_count": null,
   "metadata": {},
   "outputs": [],
   "source": [
    "# Practice here"
   ]
  },
  {
   "cell_type": "markdown",
   "metadata": {},
   "source": [
    "## Using residplot from seaborn"
   ]
  },
  {
   "cell_type": "markdown",
   "metadata": {},
   "source": [
    "`residplot` calculates and plots the residuals (difference between the data points and the linear model) between the model and the data. \n",
    "\n",
    "For example `sns.residplot(data = data, x = 'x', y = 'y')` finds out the best fitted linear model $y_{model} = kx + c$ and then calculates the residuals $res = y_{data} - y_{model}$ and plots that in the y-axis.\n",
    "\n",
    "Using the `residplot` function plot the residuals of the linear model between the shoulder and chest girth data."
   ]
  },
  {
   "cell_type": "code",
   "execution_count": null,
   "metadata": {},
   "outputs": [],
   "source": [
    "# Practice here"
   ]
  },
  {
   "cell_type": "markdown",
   "metadata": {},
   "source": [
    "As can be seen from the graph, the residuals are evenly distributed above and below the center-line which confirms that the linear model works fine in this case."
   ]
  },
  {
   "cell_type": "markdown",
   "metadata": {},
   "source": [
    "## More statistical comparison tools \n",
    "\n",
    "Below are some more statistical comparisons done with seaborn and pandas.\n",
    "\n",
    "Compare the chest diameters between `sex`. Show the results using boxplot."
   ]
  },
  {
   "cell_type": "code",
   "execution_count": null,
   "metadata": {},
   "outputs": [],
   "source": [
    "import warnings\n",
    "warnings.filterwarnings(\"ignore\", category=UserWarning)\n",
    "\n",
    "sns.catplot(data=data, x=\"sex\", y=\"che.di\", kind=\"box\")\n",
    "plt.show()"
   ]
  },
  {
   "cell_type": "markdown",
   "metadata": {},
   "source": [
    "Compare the chest diameter between `sex`. Use default jitter-plot."
   ]
  },
  {
   "cell_type": "code",
   "execution_count": null,
   "metadata": {},
   "outputs": [],
   "source": [
    "sns.catplot(data=data, x=\"sex\", y=\"che.di\")\n",
    "plt.show()"
   ]
  },
  {
   "cell_type": "markdown",
   "metadata": {},
   "source": [
    "### Linear regression plot for two groups\n",
    "Generate linear regression plot \"che.gi\" vs. sho.gi\". Uses \"sex\" to group the data. As a results, two linear regression lines (one for each group) is plotted"
   ]
  },
  {
   "cell_type": "code",
   "execution_count": null,
   "metadata": {},
   "outputs": [],
   "source": [
    "g = sns.lmplot(\n",
    "    data=data,\n",
    "    x=\"sho.gi\", y=\"che.gi\", hue=\"sex\",\n",
    "    height=4)"
   ]
  },
  {
   "cell_type": "markdown",
   "metadata": {},
   "source": [
    "### Pairplot between several variables\n",
    "\n",
    "The following code creates a pairplot between several variables. It shows kernel plots (continuous histograms) for each variable and scatter-plots between variable pairs. Data is grouped by \"sex\" using the hue parameter.\n"
   ]
  },
  {
   "cell_type": "code",
   "execution_count": null,
   "metadata": {},
   "outputs": [],
   "source": [
    "sns.pairplot(data = data[['che.gi', 'sho.gi', 'wri.di','sex']], \n",
    "             hue = 'sex', \n",
    "             height = 3);"
   ]
  },
  {
   "cell_type": "markdown",
   "metadata": {},
   "source": [
    "# Crosstabulated table\n",
    "\n",
    "This code creates a crosstabulated table where data is splitted into two groups based on sex (columns) and shoulder girth (rows). Crosstab counts all values belonging to each category. `margins = True` adds subtotals for all rows and columns."
   ]
  },
  {
   "cell_type": "code",
   "execution_count": null,
   "metadata": {},
   "outputs": [],
   "source": [
    "table = pd.crosstab([data['sho.gi'].between(0, 110)], data['sex'],\n",
    "           margins = True)\n",
    "print(table)"
   ]
  },
  {
   "cell_type": "markdown",
   "metadata": {},
   "source": [
    "More info:\n",
    "- [Visualizing categorical data](https://seaborn.pydata.org/tutorial/categorical.html#categorical-tutorial)\n",
    "- [pandas.crosstab](https://pandas.pydata.org/pandas-docs/stable/reference/api/pandas.crosstab.html)\n",
    "- [Pandas crosstab explained](https://pbpython.com/pandas-crosstab.html)"
   ]
  },
  {
   "cell_type": "code",
   "execution_count": null,
   "metadata": {},
   "outputs": [],
   "source": []
  }
 ],
 "metadata": {
  "kernelspec": {
   "display_name": "Python 3 (ipykernel)",
   "language": "python",
   "name": "python3"
  },
  "language_info": {
   "codemirror_mode": {
    "name": "ipython",
    "version": 3
   },
   "file_extension": ".py",
   "mimetype": "text/x-python",
   "name": "python",
   "nbconvert_exporter": "python",
   "pygments_lexer": "ipython3",
   "version": "3.9.18"
  }
 },
 "nbformat": 4,
 "nbformat_minor": 4
}
