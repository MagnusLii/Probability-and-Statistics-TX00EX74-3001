{
 "cells": [
  {
   "cell_type": "markdown",
   "id": "1f4ee4b9-3981-4ca1-aa52-511680640d2f",
   "metadata": {},
   "source": [
    "# E2. Descriptive statistics\n",
    "Probability and Statistics<br>\n",
    "[CC BY-NC-SA](https://creativecommons.org/licenses/by-nc-sa/4.0/),\n",
    "[Sakari Lukkarinen](https://peoplefinder.metropolia.fi/en/profile/8719/staff/Sakari-Lukkarinen)<br>\n",
    "[Helsinki Metropolia University of Applied Sciences](https://www.metropolia.fi/en/)"
   ]
  },
  {
   "cell_type": "markdown",
   "id": "92e57d8b-067a-4e35-aa1f-c697dbbad4d1",
   "metadata": {},
   "source": [
    "## Setup"
   ]
  },
  {
   "cell_type": "code",
   "execution_count": 1,
   "id": "4e115c0b-20be-4476-9b52-d441c3ae3a9d",
   "metadata": {},
   "outputs": [],
   "source": [
    "import numpy as np\n",
    "import matplotlib.pyplot as plt\n",
    "import pandas as pd"
   ]
  },
  {
   "cell_type": "markdown",
   "id": "8d9b022e-2f55-47a4-b9a9-50c54486bf19",
   "metadata": {},
   "source": [
    "## A Brief Refresher of Statistical Concepts\n",
    "\n",
    "These examples are adapted from the book: [The Statistics and Calculus with Python Workshop : A comprehensive introduction to mathematics in Python for artificial intelligence applications](https://metropolia.finna.fi/Record/nelli15.4100000011395791).\n"
   ]
  },
  {
   "cell_type": "code",
   "execution_count": 2,
   "id": "7f2ae43d-f2ba-44b9-a122-5e057136c105",
   "metadata": {},
   "outputs": [
    {
     "name": "stdout",
     "output_type": "stream",
     "text": [
      "0     1.68\n",
      "1     1.83\n",
      "2     1.75\n",
      "3     1.80\n",
      "4     1.88\n",
      "5     1.80\n",
      "6     1.89\n",
      "7     1.84\n",
      "8     1.90\n",
      "9     1.65\n",
      "10    1.67\n",
      "11    1.62\n",
      "12    1.81\n",
      "13    1.73\n",
      "14    1.84\n",
      "15    1.78\n",
      "16    1.76\n",
      "17    1.97\n",
      "18    1.81\n",
      "19    1.75\n",
      "20    1.65\n",
      "21    1.87\n",
      "22    1.85\n",
      "23    1.64\n",
      "dtype: float64\n"
     ]
    }
   ],
   "source": [
    "# Example dataset. We use pandas.Series\n",
    "data = np.array([1.68, 1.83, 1.75, 1.8, 1.88, 1.8, 1.89, 1.84, 1.9, 1.65, 1.67,1.62, 1.81, 1.73, 1.84, 1.78, 1.76, 1.97, 1.81, 1.75, 1.65, 1.87, 1.85, 1.64])\n",
    "mens_heights = pd.Series(data)\n",
    "print(mens_heights)"
   ]
  },
  {
   "cell_type": "code",
   "execution_count": 3,
   "id": "238a9a07-702a-49da-9926-2f93d661c856",
   "metadata": {},
   "outputs": [
    {
     "name": "stdout",
     "output_type": "stream",
     "text": [
      "mean = 1.78 cm\n"
     ]
    }
   ],
   "source": [
    "# Calculate the mean\n",
    "m = mens_heights.mean()\n",
    "print(f'mean = {m:.2f} cm')"
   ]
  },
  {
   "cell_type": "code",
   "execution_count": 4,
   "id": "47f03b90-524f-4366-9027-6dbbb9e387a9",
   "metadata": {},
   "outputs": [
    {
     "name": "stdout",
     "output_type": "stream",
     "text": [
      "std = 0.09 cm\n"
     ]
    }
   ],
   "source": [
    "# Calculate the standard deviation\n",
    "s = mens_heights.std()\n",
    "print(f'std = {s:.2f} cm')"
   ]
  },
  {
   "cell_type": "code",
   "execution_count": 5,
   "id": "d674b7bc-930d-44e6-bcbe-213501ceaafc",
   "metadata": {},
   "outputs": [
    {
     "name": "stdout",
     "output_type": "stream",
     "text": [
      "0.25    1.7175\n",
      "0.50    1.8000\n",
      "0.75    1.8425\n",
      "dtype: float64\n"
     ]
    }
   ],
   "source": [
    "# Calculate the quantiles\n",
    "q = mens_heights.quantile([0.25, 0.5, 0.75])\n",
    "print(q)"
   ]
  },
  {
   "cell_type": "code",
   "execution_count": 6,
   "id": "6afbec42-4212-4727-82f2-1d8b806fff6b",
   "metadata": {},
   "outputs": [
    {
     "name": "stdout",
     "output_type": "stream",
     "text": [
      "0.33    1.750\n",
      "0.80    1.858\n",
      "dtype: float64\n"
     ]
    }
   ],
   "source": [
    "# Calculate 33% and 80% quantiles\n",
    "q2 = mens_heights.quantile([0.33, 0.80])\n",
    "print(q2)"
   ]
  },
  {
   "cell_type": "code",
   "execution_count": 7,
   "id": "3f9df98a-5c81-452c-8779-470864fb6f40",
   "metadata": {},
   "outputs": [
    {
     "name": "stdout",
     "output_type": "stream",
     "text": [
      "0     False\n",
      "1      True\n",
      "2     False\n",
      "3      True\n",
      "4      True\n",
      "5      True\n",
      "6      True\n",
      "7      True\n",
      "8      True\n",
      "9     False\n",
      "10    False\n",
      "11    False\n",
      "12     True\n",
      "13    False\n",
      "14     True\n",
      "15    False\n",
      "16    False\n",
      "17     True\n",
      "18     True\n",
      "19    False\n",
      "20    False\n",
      "21     True\n",
      "22     True\n",
      "23    False\n",
      "dtype: bool\n"
     ]
    }
   ],
   "source": [
    "# which of the values are greater than or equal to 1.8?\n",
    "tf = (mens_heights >= 1.8)\n",
    "print(tf)"
   ]
  },
  {
   "cell_type": "code",
   "execution_count": 8,
   "id": "06f651df-4d6f-40bf-88a3-ec936912bbf7",
   "metadata": {},
   "outputs": [
    {
     "name": "stdout",
     "output_type": "stream",
     "text": [
      "n = 13\n"
     ]
    }
   ],
   "source": [
    "# How many of the values are greater than equal to 1.8?\n",
    "n = (mens_heights >= 1.8).sum()\n",
    "print(f'n = {n}')"
   ]
  },
  {
   "cell_type": "code",
   "execution_count": 9,
   "id": "33350114-800a-4077-ba0f-9c19d5767315",
   "metadata": {},
   "outputs": [
    {
     "name": "stdout",
     "output_type": "stream",
     "text": [
      "p = 0.542\n"
     ]
    }
   ],
   "source": [
    "# What proportion of the values are greater than equal to 1.8?\n",
    "p = (mens_heights >= 1.8).mean()\n",
    "print(f'p = {p:.3f}')"
   ]
  },
  {
   "cell_type": "code",
   "execution_count": 10,
   "id": "fb99ecb1-98c9-4af6-a72f-6d78a93b237d",
   "metadata": {},
   "outputs": [
    {
     "name": "stdout",
     "output_type": "stream",
     "text": [
      "count    24.000000\n",
      "mean      1.782083\n",
      "std       0.094085\n",
      "min       1.620000\n",
      "25%       1.717500\n",
      "50%       1.800000\n",
      "75%       1.842500\n",
      "max       1.970000\n",
      "dtype: float64\n"
     ]
    }
   ],
   "source": [
    "# Descriptive statistics\n",
    "s = mens_heights.describe()\n",
    "print(s)"
   ]
  },
  {
   "cell_type": "code",
   "execution_count": 11,
   "id": "5cbb9281-de46-4a9a-ab46-74480ba5bdcd",
   "metadata": {},
   "outputs": [
    {
     "name": "stdout",
     "output_type": "stream",
     "text": [
      "17    1.97\n",
      "8     1.90\n",
      "6     1.89\n",
      "4     1.88\n",
      "21    1.87\n",
      "22    1.85\n",
      "7     1.84\n",
      "14    1.84\n",
      "1     1.83\n",
      "18    1.81\n",
      "12    1.81\n",
      "5     1.80\n",
      "dtype: float64\n"
     ]
    }
   ],
   "source": [
    "# Sort the values in descending order and show the first 12 of them\n",
    "sv = mens_heights.sort_values(ascending=False).head(12)\n",
    "print(sv)"
   ]
  },
  {
   "cell_type": "code",
   "execution_count": 12,
   "id": "c851da53-83a4-48b4-903b-f258ecfbd058",
   "metadata": {},
   "outputs": [
    {
     "name": "stdout",
     "output_type": "stream",
     "text": [
      "n = 11\n"
     ]
    }
   ],
   "source": [
    "# How many of the values are greater than equal to 1.81?\n",
    "n = (mens_heights >= 1.81).sum()\n",
    "print(f'n = {n}')"
   ]
  },
  {
   "cell_type": "code",
   "execution_count": 13,
   "id": "2751ce6d-e1c6-4fa6-ba63-e9e93b94a140",
   "metadata": {},
   "outputs": [
    {
     "name": "stdout",
     "output_type": "stream",
     "text": [
      "min and max =  (1.62, 1.97)\n"
     ]
    }
   ],
   "source": [
    "# What are the minimum and maximum values?\n",
    "min = mens_heights.min()\n",
    "max = mens_heights.max()\n",
    "print('min and max = ', (min, max))"
   ]
  },
  {
   "cell_type": "code",
   "execution_count": 14,
   "id": "bfb2e161-751c-4723-a2db-60556c601ed8",
   "metadata": {},
   "outputs": [
    {
     "name": "stdout",
     "output_type": "stream",
     "text": [
      "range = 0.35\n"
     ]
    }
   ],
   "source": [
    "# What is the range of the values?\n",
    "r = np.ptp(mens_heights)\n",
    "print(f'range = {r:.2f}')"
   ]
  },
  {
   "cell_type": "markdown",
   "id": "7411a247-82c4-4097-b9a4-bd06306e0ef3",
   "metadata": {},
   "source": [
    "## Normally distributed numbers\n",
    "\n",
    "We calculate various descriptive statistics for normally distributed values."
   ]
  },
  {
   "cell_type": "code",
   "execution_count": 15,
   "id": "e104e3cb-3d96-4653-abf1-f30533d04fdc",
   "metadata": {},
   "outputs": [],
   "source": [
    "# Generate normally distributed random values and calculate some descriptive statistics\n",
    "samples = np.random.normal(size=1000)\n",
    "mean = np.mean(samples)\n",
    "std = np.std(samples)\n",
    "median = np.median(samples)\n",
    "q1 = np.percentile(samples, 25)\n",
    "q3 = np.percentile(samples, 75)"
   ]
  },
  {
   "cell_type": "code",
   "execution_count": 16,
   "id": "03d7a606-c359-4801-b778-2815bfabbc37",
   "metadata": {},
   "outputs": [
    {
     "name": "stdout",
     "output_type": "stream",
     "text": [
      "mean = 0.02\n",
      "std =  0.99\n",
      "median = 0.08\n",
      "Q1 = -0.60\n",
      "Q3 = 0.69\n"
     ]
    }
   ],
   "source": [
    "# Display the values\n",
    "print(f'mean = {mean:.2f}')\n",
    "print(f'std =  {std:.2f}')\n",
    "print(f'median = {median:.2f}')\n",
    "print(f'Q1 = {q1:.2f}')\n",
    "print(f'Q3 = {q3:.2f}')"
   ]
  },
  {
   "cell_type": "code",
   "execution_count": 17,
   "id": "b2e37b44-e03c-4392-a440-ef18b52a05a6",
   "metadata": {},
   "outputs": [
    {
     "data": {
      "image/png": "[encoded data removed]",
      "text/plain": [
       "<Figure size 800x300 with 1 Axes>"
      ]
     },
     "metadata": {},
     "output_type": "display_data"
    }
   ],
   "source": [
    "# Visualize the distribution of the random values using histogram\n",
    "plt.figure(figsize = (8, 3))\n",
    "plt.hist(samples, bins=20, color = 'lightblue')\n",
    "\n",
    "# Add vertical lines to mean, median, and interquartiles\n",
    "plt.axvline(x=mean, c='darkred', label='Mean')\n",
    "plt.axvline(x=median, c='darkblue', linestyle = 'dashed', label='Median')\n",
    "plt.axvline(x=q1, c='steelblue', linestyle = 'dashdot',label='Interquartile')\n",
    "plt.axvline(x=q3, c='steelblue', linestyle = 'dashdot')\n",
    "\n",
    "plt.legend()\n",
    "\n",
    "plt.show()"
   ]
  },
  {
   "cell_type": "code",
   "execution_count": 18,
   "id": "aa8c6fdc-23eb-435a-95b6-e708e64b753a",
   "metadata": {},
   "outputs": [
    {
     "name": "stdout",
     "output_type": "stream",
     "text": [
      "n = 161\n"
     ]
    }
   ],
   "source": [
    "# How many of the values are greater than 1.0?\n",
    "n = (samples > 1.0).sum()\n",
    "print(f'n = {n}')"
   ]
  },
  {
   "cell_type": "code",
   "execution_count": 19,
   "id": "61b9f01a-43dd-438f-9b10-d2c73c69696c",
   "metadata": {},
   "outputs": [
    {
     "name": "stdout",
     "output_type": "stream",
     "text": [
      "p(x>1.0) = 0.161\n"
     ]
    }
   ],
   "source": [
    "# What proportion of the values are greater than 1.0?\n",
    "p = (samples > 1.0).mean()\n",
    "print(f'p(x>1.0) = {p:.3f}')"
   ]
  },
  {
   "cell_type": "code",
   "execution_count": 20,
   "id": "3d9b1c0d-01d7-4873-8b1b-9c0135bf37f0",
   "metadata": {},
   "outputs": [
    {
     "name": "stdout",
     "output_type": "stream",
     "text": [
      "P(-1<x<1) = 68.5 %\n"
     ]
    }
   ],
   "source": [
    "# What percentage of samples are between -1 and 1?\n",
    "p = ((samples > -1) & (samples < 1)).mean()\n",
    "print(f'P(-1<x<1) = {100*p} %')"
   ]
  },
  {
   "cell_type": "code",
   "execution_count": 21,
   "id": "67756127-590f-4d39-88ae-2d62195ecb0f",
   "metadata": {},
   "outputs": [
    {
     "name": "stdout",
     "output_type": "stream",
     "text": [
      "P(Q1<x<Q3) = 50.0 %\n"
     ]
    }
   ],
   "source": [
    "# What percentage of samples are between Q1 and Q3?\n",
    "p = ((samples > q1) & (samples < q3)).mean()\n",
    "print(f'P(Q1<x<Q3) = {100*p} %')"
   ]
  },
  {
   "cell_type": "code",
   "execution_count": 22,
   "id": "9c57d7ca-c247-476d-9380-9efb55216b36",
   "metadata": {},
   "outputs": [
    {
     "data": {
      "image/png": "[encoded data removed]",
      "text/plain": [
       "<Figure size 800x600 with 2 Axes>"
      ]
     },
     "metadata": {},
     "output_type": "display_data"
    }
   ],
   "source": [
    "# Plot violin plot and histogram in the same figure\n",
    "\n",
    "# Create two axis, share the same limits for x-axis\n",
    "fig, ax = plt.subplots(2, figsize = (8, 6), sharex = True)\n",
    "\n",
    "# Select first (upper) axis\n",
    "plt.sca(ax[0])\n",
    "\n",
    "# Draw a boxplot horizontally (vert = False)\n",
    "plt.boxplot(samples, vert = False)\n",
    "\n",
    "# Select second (lower) axis\n",
    "plt.sca(ax[1])\n",
    "\n",
    "# Draw a histogram with 20 bins, change default color and edgecolor\n",
    "plt.hist(samples, bins=20, color = 'orange', edgecolor='black')\n",
    "\n",
    "# Show graphics\n",
    "plt.show()"
   ]
  },
  {
   "cell_type": "code",
   "execution_count": null,
   "id": "919d0748-fa3a-421d-a80a-28ea1dfad0b4",
   "metadata": {},
   "outputs": [],
   "source": []
  }
 ],
 "metadata": {
  "kernelspec": {
   "display_name": "Python 3 (ipykernel)",
   "language": "python",
   "name": "python3"
  },
  "language_info": {
   "codemirror_mode": {
    "name": "ipython",
    "version": 3
   },
   "file_extension": ".py",
   "mimetype": "text/x-python",
   "name": "python",
   "nbconvert_exporter": "python",
   "pygments_lexer": "ipython3",
   "version": "3.9.18"
  }
 },
 "nbformat": 4,
 "nbformat_minor": 5
}
